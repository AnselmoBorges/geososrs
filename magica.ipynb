{
 "cells": [
  {
   "attachments": {},
   "cell_type": "markdown",
   "metadata": {},
   "source": [
    "# Como se tornar um engenheiro vagabundo\n",
    "Te mostro, rsrsrs"
   ]
  },
  {
   "cell_type": "code",
   "execution_count": null,
   "metadata": {},
   "outputs": [],
   "source": [
    "# criar uma função que busca o cep\n",
    "def busca_cep(cep):\n",
    "    url = 'https://viacep.com.br/ws/' + cep + '/json/'\n",
    "    response = requests.get(url)\n",
    "    dados = response.json()\n",
    "    return dados\n",
    "\n",
    "# Cria um dataframe spark a partir do resultado da função com 2 ceps\n",
    "df = spark.createDataFrame([busca_cep('01521000'), busca_cep('03978290')])\n",
    "display(df)"
   ]
  }
 ],
 "metadata": {
  "language_info": {
   "name": "python"
  },
  "orig_nbformat": 4
 },
 "nbformat": 4,
 "nbformat_minor": 2
}
