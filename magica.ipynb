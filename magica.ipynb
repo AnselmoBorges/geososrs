{
 "cells": [
  {
   "attachments": {},
   "cell_type": "markdown",
   "metadata": {},
   "source": [
    "# Como fazer uma magica\n",
    "Me transformar num engenheiro PRODUTIVO"
   ]
  },
  {
   "cell_type": "code",
   "execution_count": null,
   "metadata": {},
   "outputs": [],
   "source": [
    "# criar uma função que busca CEP\n",
    "import requests\n",
    "\n",
    "def busca_cep(cep):\n",
    "    url = 'https://viacep.com.br/ws/{}/json/'.format(cep)\n",
    "    response = requests.get(url)\n",
    "    dados = response.json()\n",
    "    return dados"
   ]
  },
  {
   "attachments": {},
   "cell_type": "markdown",
   "metadata": {},
   "source": [
    "# Criando Dataframe\n",
    "Criando dataframe spark com a busca de 2 CEPS"
   ]
  },
  {
   "cell_type": "code",
   "execution_count": null,
   "metadata": {},
   "outputs": [],
   "source": [
    "# Criar dataframe spark com o resultado da funcão buscando 2 CEPs\n",
    "df = spark.createDataFrame([busca_cep('01521000'), busca_cep('03978290')])"
   ]
  },
  {
   "attachments": {},
   "cell_type": "markdown",
   "metadata": {},
   "source": [
    "# Criar tabela delta\n",
    "Criar uma tabela delta chamada CEPS no database default com o resultado do dataframe"
   ]
  },
  {
   "cell_type": "code",
   "execution_count": null,
   "metadata": {},
   "outputs": [],
   "source": [
    "# Cria tabela delta CEPS no database default com o resultado do dataframe\n",
    "df.write.format('delta').mode('overwrite').saveAsTable('default.ceps')"
   ]
  }
 ],
 "metadata": {
  "language_info": {
   "name": "python"
  },
  "orig_nbformat": 4
 },
 "nbformat": 4,
 "nbformat_minor": 2
}
