{
 "cells": [
  {
   "attachments": {},
   "cell_type": "markdown",
   "metadata": {},
   "source": [
    "## Vamos fazer um teste\n",
    "Como ser um vagabundo produtivo"
   ]
  },
  {
   "cell_type": "code",
   "execution_count": null,
   "metadata": {},
   "outputs": [],
   "source": [
    "# Vou criar uma função que busca CEPs e retorna um dataframe spark com os dados do CEP.\n",
    "def busca_cep(cep):\n",
    "  import requests\n",
    "  import json\n",
    "  url = \"https://viacep.com.br/ws/{}/json/\".format(cep)\n",
    "  response = requests.get(url)\n",
    "  return json.loads(response.text)\n",
    "\n",
    "df = spark.createDataFrame([busca_cep(cep) for cep in [\"03978290\", \"01521000\"]])\n",
    "display(df)"
   ]
  }
 ],
 "metadata": {
  "language_info": {
   "name": "python"
  },
  "orig_nbformat": 4
 },
 "nbformat": 4,
 "nbformat_minor": 2
}
